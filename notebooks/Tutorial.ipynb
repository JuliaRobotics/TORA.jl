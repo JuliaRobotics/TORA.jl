{
 "cells": [
  {
   "cell_type": "code",
   "execution_count": null,
   "metadata": {},
   "outputs": [],
   "source": [
    "using TORA\n",
    "using MeshCat\n",
    "using RigidBodyDynamics"
   ]
  },
  {
   "cell_type": "code",
   "execution_count": null,
   "metadata": {},
   "outputs": [],
   "source": [
    "TORA.greet()"
   ]
  },
  {
   "cell_type": "code",
   "execution_count": null,
   "metadata": {},
   "outputs": [],
   "source": [
    "vis = Visualizer()\n",
    "\n",
    "# Change the camera's Field of View\n",
    "setprop!(vis[\"/Cameras/default/rotated/<object>\"], \"fov\", 40)\n",
    "\n",
    "# IJuliaCell(vis)  # Show the viewer here (in the notebook)\n",
    "open(vis)  # Show the viewer in a separate tab"
   ]
  },
  {
   "cell_type": "code",
   "execution_count": null,
   "metadata": {},
   "outputs": [],
   "source": [
    "robot = TORA.create_robot_franka(\"panda_arm\", vis)\n",
    "problem = TORA.Problem(robot, 201, 1/100)\n",
    "\n",
    "# Constrain initial and final joint velocities to zero\n",
    "TORA.fix_joint_velocities!(problem, robot, 1, zeros(robot.n_v))\n",
    "TORA.fix_joint_velocities!(problem, robot, problem.num_knots, zeros(robot.n_v))\n",
    "\n",
    "let CubicTimeScaling(Tf::Number, t::Number) = 3(t / Tf)^2 - 2(t / Tf)^3\n",
    "    for k = 1:2:problem.num_knots  # For every other knot\n",
    "        θ = CubicTimeScaling(problem.num_knots - 1, k - 1) * 2π\n",
    "        pos = [0.5, 0.2 * cos(θ), 0.8 + 0.2 * sin(θ)]\n",
    "        TORA.constrain_ee_position!(problem, k, pos)\n",
    "    end\n",
    "end"
   ]
  },
  {
   "cell_type": "code",
   "execution_count": null,
   "metadata": {},
   "outputs": [],
   "source": [
    "TORA.show_problem_info(problem)"
   ]
  },
  {
   "cell_type": "code",
   "execution_count": null,
   "metadata": {},
   "outputs": [],
   "source": [
    "initial_q = [0, 0, 0, -π/2, 0, π, 0]\n",
    "\n",
    "zero!(robot.state)\n",
    "set_configuration!(robot.state, initial_q)\n",
    "set_configuration!(robot.mvis, configuration(robot.state))\n",
    "\n",
    "initial_qs = repeat(initial_q, 1, problem.num_knots)\n",
    "initial_vs = zeros(robot.n_v, problem.num_knots)\n",
    "initial_τs = zeros(robot.n_τ, problem.num_knots)\n",
    "\n",
    "initial_guess = [initial_qs; initial_vs; initial_τs]\n",
    "\n",
    "# Flatten matrix and truncate torques of last knot\n",
    "initial_guess = vec(initial_guess)[1:end - robot.n_τ];"
   ]
  },
  {
   "cell_type": "code",
   "execution_count": null,
   "metadata": {},
   "outputs": [],
   "source": [
    "# Calling this will start the optimization\n",
    "cpu_time, x, solver_log = TORA.solve_with_ipopt(problem, robot, initial_guess=initial_guess)"
   ]
  },
  {
   "cell_type": "code",
   "execution_count": null,
   "metadata": {},
   "outputs": [],
   "source": [
    "TORA.play_trajectory(vis, problem, robot, x)"
   ]
  },
  {
   "cell_type": "code",
   "execution_count": null,
   "metadata": {},
   "outputs": [],
   "source": [
    "TORA.plot_results(problem, robot, x)"
   ]
  },
  {
   "cell_type": "code",
   "execution_count": null,
   "metadata": {},
   "outputs": [],
   "source": [
    "TORA.plot_log(solver_log)"
   ]
  }
 ],
 "metadata": {
  "kernelspec": {
   "display_name": "Julia 1.7.2",
   "language": "julia",
   "name": "julia-1.7"
  },
  "language_info": {
   "file_extension": ".jl",
   "mimetype": "application/julia",
   "name": "julia",
   "version": "1.7.2"
  }
 },
 "nbformat": 4,
 "nbformat_minor": 4
}
