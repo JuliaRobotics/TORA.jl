{
 "cells": [
  {
   "cell_type": "code",
   "execution_count": 2,
   "id": "a7390209-4270-4df1-b1cc-af133edbb166",
   "metadata": {},
   "outputs": [
    {
     "data": {
      "application/vnd.webio.node+json": {
       "children": [],
       "instanceArgs": {
        "namespace": "html",
        "tag": "div"
       },
       "nodeType": "DOM",
       "props": {},
       "type": "node"
      },
      "text/html": [
       "<div style=\"padding: 1em; background-color: #f8d6da; border: 1px solid #f5c6cb; font-weight: bold;\">\n",
       "<p>The WebIO Jupyter extension was not detected. See the\n",
       "<a href=\"https://juliagizmos.github.io/WebIO.jl/latest/providers/ijulia/\" target=\"_blank\">\n",
       "    WebIO Jupyter integration documentation\n",
       "</a>\n",
       "for more information.\n",
       "</div>\n"
      ],
      "text/plain": [
       "WebIO._IJuliaInit()"
      ]
     },
     "metadata": {},
     "output_type": "display_data"
    }
   ],
   "source": [
    "using Revise\n",
    "using TORA"
   ]
  },
  {
   "cell_type": "code",
   "execution_count": 3,
   "id": "72744d71-70ff-45be-af90-d5c8f29dd692",
   "metadata": {},
   "outputs": [],
   "source": [
    "using BenchmarkTools\n",
    "# using JLD2\n",
    "using MeshCat\n",
    "# using ProgressMeter\n",
    "# using SparseArrays\n",
    "# using StaticArrays\n",
    "# using ThreadsX"
   ]
  },
  {
   "cell_type": "code",
   "execution_count": 4,
   "id": "f4e623f5-f9da-42b1-abf8-b3370fc0aec1",
   "metadata": {},
   "outputs": [],
   "source": [
    "using FastDifferentiation"
   ]
  },
  {
   "cell_type": "code",
   "execution_count": 5,
   "id": "8b3abeba-921d-4d26-8bf8-5c9e41376430",
   "metadata": {},
   "outputs": [
    {
     "name": "stderr",
     "output_type": "stream",
     "text": [
      "\u001b[36m\u001b[1m[ \u001b[22m\u001b[39m\u001b[36m\u001b[1mInfo: \u001b[22m\u001b[39mListening on: 127.0.0.1:8700, thread id: 1\n",
      "\u001b[36m\u001b[1m┌ \u001b[22m\u001b[39m\u001b[36m\u001b[1mInfo: \u001b[22m\u001b[39mMeshCat server started. You can open the visualizer by visiting the following URL in your browser:\n",
      "\u001b[36m\u001b[1m└ \u001b[22m\u001b[39mhttp://127.0.0.1:8700\n"
     ]
    },
    {
     "data": {
      "text/plain": [
       "Robot{Float64, RigidBodyDynamics.StateCache{Float64, TypeSortedCollections.TypeSortedCollection{Tuple{Vector{RigidBodyDynamics.Joint{Float64, RigidBodyDynamics.Revolute{Float64}}}}, 1}}, 7, 7, 7}(\"/Users/henrique/git/TORA.jl/src/../robots/panda_arm.urdf\", Spanning tree:\n",
       "Vertex: world (root)\n",
       "  Vertex: panda_link1, Edge: panda_joint1\n",
       "    Vertex: panda_link2, Edge: panda_joint2\n",
       "      Vertex: panda_link3, Edge: panda_joint3\n",
       "        Vertex: panda_link4, Edge: panda_joint4\n",
       "          Vertex: panda_link5, Edge: panda_joint5\n",
       "            Vertex: panda_link6, Edge: panda_joint6\n",
       "              Vertex: panda_link7, Edge: panda_joint7\n",
       "No non-tree joints., MechanismState{Float64, Float64, Float64, …}(…), StateCache{…}(…), DynamicsResultCache{Float64}(…), RigidBodyDynamics.SegmentedVectorCache{RigidBodyDynamics.JointID, Base.OneTo{RigidBodyDynamics.JointID}}(RigidBodyDynamics.CustomCollections.IndexDict{RigidBodyDynamics.JointID, Base.OneTo{RigidBodyDynamics.JointID}, UnitRange{Int64}}(RigidBodyDynamics.JointID(1) => 1:1, RigidBodyDynamics.JointID(2) => 2:2, RigidBodyDynamics.JointID(3) => 3:3, RigidBodyDynamics.JointID(4) => 4:4, RigidBodyDynamics.JointID(5) => 5:5, RigidBodyDynamics.JointID(6) => 6:6, RigidBodyDynamics.JointID(7) => 7:7), 7, UInt64[], RigidBodyDynamics.CustomCollections.SegmentedVector[]), MeshCatMechanisms.MechanismVisualizer{RigidBodyDynamics.MechanismState{Float64, Float64, Float64, TypeSortedCollections.TypeSortedCollection{Tuple{Vector{RigidBodyDynamics.Joint{Float64, RigidBodyDynamics.Revolute{Float64}}}}, 1}}, Visualizer}(MechanismState{Float64, Float64, Float64, …}(…), MeshCat Visualizer with path /meshcat/robot at http://127.0.0.1:8700, 24), [-2.8973, -1.7628, -2.8973, -3.0718, -2.8973, -0.0175, -2.8973], [2.8973, 1.7628, 2.8973, -0.0698, 2.8973, 3.7525, 2.8973], [-2.175, -2.175, -2.175, -2.175, -2.61, -2.61, -2.61], [2.175, 2.175, 2.175, 2.175, 2.61, 2.61, 2.61], [-87.0, -87.0, -87.0, -87.0, -12.0, -12.0, -12.0], [87.0, 87.0, 87.0, 87.0, 12.0, 12.0, 12.0], 7, 7, 7, CartesianFrame3D: \"after_panda_hand_tcp_joint\" (id = 50))"
      ]
     },
     "execution_count": 5,
     "metadata": {},
     "output_type": "execute_result"
    }
   ],
   "source": [
    "if !@isdefined vis\n",
    "    vis = Visualizer()\n",
    "    robot_global = TORA.create_robot_franka(\"panda_arm\", vis)\n",
    "end"
   ]
  },
  {
   "cell_type": "code",
   "execution_count": 6,
   "id": "e2a80741-e458-4e6d-aa09-11f363e6b2ea",
   "metadata": {},
   "outputs": [],
   "source": [
    "dt = 0.01\n",
    "\n",
    "function prepare_jacdata()\n",
    "    robot = TORA.create_robot_franka(\"panda_arm\", vis)\n",
    "    input = rand(robot.n_q + robot.n_v + robot.n_τ + robot.n_q + robot.n_v)\n",
    "    output = rand(robot.n_q + robot.n_v)\n",
    "    f!(defects, x) = TORA.forward_dynamics_defects!(defects, robot, x, dt)\n",
    "    jacdata_fwd_dyn = TORA.JacobianData(f!, output, input)\n",
    "    return jacdata_fwd_dyn\n",
    "end\n",
    "\n",
    "jacdata_fwd_dyn = prepare_jacdata();"
   ]
  },
  {
   "cell_type": "markdown",
   "id": "d8753e50-6ac6-4c88-927a-87762b5bbb48",
   "metadata": {},
   "source": [
    "## Benchmarking"
   ]
  },
  {
   "cell_type": "code",
   "execution_count": 7,
   "id": "c953981a-4b89-46d4-a777-bb752d3e9567",
   "metadata": {},
   "outputs": [
    {
     "data": {
      "text/plain": [
       "BenchmarkTools.Trial: 10000 samples with 10 evaluations.\n",
       " Range \u001b[90m(\u001b[39m\u001b[36m\u001b[1mmin\u001b[22m\u001b[39m … \u001b[35mmax\u001b[39m\u001b[90m):  \u001b[39m\u001b[36m\u001b[1m1.617 μs\u001b[22m\u001b[39m … \u001b[35m 4.883 μs\u001b[39m  \u001b[90m┊\u001b[39m GC \u001b[90m(\u001b[39mmin … max\u001b[90m): \u001b[39m0.00% … 0.00%\n",
       " Time  \u001b[90m(\u001b[39m\u001b[34m\u001b[1mmedian\u001b[22m\u001b[39m\u001b[90m):     \u001b[39m\u001b[34m\u001b[1m1.679 μs              \u001b[22m\u001b[39m\u001b[90m┊\u001b[39m GC \u001b[90m(\u001b[39mmedian\u001b[90m):    \u001b[39m0.00%\n",
       " Time  \u001b[90m(\u001b[39m\u001b[32m\u001b[1mmean\u001b[22m\u001b[39m ± \u001b[32mσ\u001b[39m\u001b[90m):   \u001b[39m\u001b[32m\u001b[1m1.687 μs\u001b[22m\u001b[39m ± \u001b[32m96.811 ns\u001b[39m  \u001b[90m┊\u001b[39m GC \u001b[90m(\u001b[39mmean ± σ\u001b[90m):  \u001b[39m0.00% ± 0.00%\n",
       "\n",
       "  \u001b[39m \u001b[39m \u001b[39m \u001b[39m \u001b[39m \u001b[39m \u001b[39m \u001b[39m \u001b[39m \u001b[39m \u001b[39m \u001b[39m \u001b[39m \u001b[39m \u001b[39m \u001b[39m \u001b[39m \u001b[39m \u001b[39m \u001b[39m \u001b[39m \u001b[39m \u001b[39m \u001b[39m \u001b[39m \u001b[39m \u001b[39m \u001b[39m \u001b[39m \u001b[39m \u001b[39m \u001b[39m \u001b[39m \u001b[39m \u001b[39m▂\u001b[39m \u001b[39m▆\u001b[39m \u001b[39m \u001b[39m█\u001b[34m \u001b[39m\u001b[39m \u001b[39m▇\u001b[39m \u001b[32m▄\u001b[39m\u001b[39m \u001b[39m \u001b[39m \u001b[39m \u001b[39m \u001b[39m \u001b[39m \u001b[39m \u001b[39m \u001b[39m \u001b[39m \u001b[39m \u001b[39m \u001b[39m \u001b[39m \n",
       "  \u001b[39m▂\u001b[39m▁\u001b[39m▂\u001b[39m▁\u001b[39m▁\u001b[39m▂\u001b[39m▁\u001b[39m▂\u001b[39m▁\u001b[39m▁\u001b[39m▂\u001b[39m▁\u001b[39m▁\u001b[39m▂\u001b[39m▁\u001b[39m▂\u001b[39m▁\u001b[39m▁\u001b[39m▂\u001b[39m▁\u001b[39m▁\u001b[39m▂\u001b[39m▁\u001b[39m▂\u001b[39m▁\u001b[39m▁\u001b[39m▃\u001b[39m▁\u001b[39m▄\u001b[39m▁\u001b[39m▁\u001b[39m▆\u001b[39m▁\u001b[39m▁\u001b[39m█\u001b[39m▁\u001b[39m█\u001b[39m▁\u001b[39m▁\u001b[39m█\u001b[34m▁\u001b[39m\u001b[39m▁\u001b[39m█\u001b[39m▁\u001b[32m█\u001b[39m\u001b[39m▁\u001b[39m▁\u001b[39m█\u001b[39m▁\u001b[39m▁\u001b[39m▅\u001b[39m▁\u001b[39m▃\u001b[39m▁\u001b[39m▁\u001b[39m▂\u001b[39m▁\u001b[39m▂\u001b[39m \u001b[39m▃\n",
       "  1.62 μs\u001b[90m        Histogram: frequency by time\u001b[39m        1.71 μs \u001b[0m\u001b[1m<\u001b[22m\n",
       "\n",
       " Memory estimate\u001b[90m: \u001b[39m\u001b[33m0 bytes\u001b[39m, allocs estimate\u001b[90m: \u001b[39m\u001b[33m0\u001b[39m."
      ]
     },
     "metadata": {},
     "output_type": "display_data"
    },
    {
     "data": {
      "text/plain": [
       "BenchmarkTools.Trial: 10000 samples with 1 evaluation.\n",
       " Range \u001b[90m(\u001b[39m\u001b[36m\u001b[1mmin\u001b[22m\u001b[39m … \u001b[35mmax\u001b[39m\u001b[90m):  \u001b[39m\u001b[36m\u001b[1m33.833 μs\u001b[22m\u001b[39m … \u001b[35m 4.152 ms\u001b[39m  \u001b[90m┊\u001b[39m GC \u001b[90m(\u001b[39mmin … max\u001b[90m): \u001b[39m0.00% … 98.31%\n",
       " Time  \u001b[90m(\u001b[39m\u001b[34m\u001b[1mmedian\u001b[22m\u001b[39m\u001b[90m):     \u001b[39m\u001b[34m\u001b[1m36.375 μs              \u001b[22m\u001b[39m\u001b[90m┊\u001b[39m GC \u001b[90m(\u001b[39mmedian\u001b[90m):    \u001b[39m0.00%\n",
       " Time  \u001b[90m(\u001b[39m\u001b[32m\u001b[1mmean\u001b[22m\u001b[39m ± \u001b[32mσ\u001b[39m\u001b[90m):   \u001b[39m\u001b[32m\u001b[1m39.175 μs\u001b[22m\u001b[39m ± \u001b[32m85.763 μs\u001b[39m  \u001b[90m┊\u001b[39m GC \u001b[90m(\u001b[39mmean ± σ\u001b[90m):  \u001b[39m4.85% ±  2.20%\n",
       "\n",
       "  \u001b[39m \u001b[39m \u001b[39m \u001b[39m \u001b[39m \u001b[39m▂\u001b[39m▃\u001b[34m█\u001b[39m\u001b[39m▁\u001b[39m \u001b[39m \u001b[39m \u001b[39m \u001b[39m \u001b[39m \u001b[32m \u001b[39m\u001b[39m \u001b[39m \u001b[39m \u001b[39m \u001b[39m \u001b[39m \u001b[39m \u001b[39m \u001b[39m \u001b[39m \u001b[39m \u001b[39m \u001b[39m \u001b[39m \u001b[39m \u001b[39m \u001b[39m \u001b[39m \u001b[39m \u001b[39m \u001b[39m \u001b[39m \u001b[39m \u001b[39m \u001b[39m \u001b[39m \u001b[39m \u001b[39m \u001b[39m \u001b[39m \u001b[39m \u001b[39m \u001b[39m \u001b[39m \u001b[39m \u001b[39m \u001b[39m \u001b[39m \u001b[39m \u001b[39m \u001b[39m \u001b[39m \u001b[39m \u001b[39m \u001b[39m \n",
       "  \u001b[39m▁\u001b[39m▂\u001b[39m▃\u001b[39m▅\u001b[39m▆\u001b[39m█\u001b[39m█\u001b[34m█\u001b[39m\u001b[39m█\u001b[39m▅\u001b[39m▃\u001b[39m▂\u001b[39m▂\u001b[39m▂\u001b[39m▂\u001b[32m▃\u001b[39m\u001b[39m▂\u001b[39m▂\u001b[39m▁\u001b[39m▁\u001b[39m▁\u001b[39m▁\u001b[39m▁\u001b[39m▁\u001b[39m▁\u001b[39m▁\u001b[39m▁\u001b[39m▁\u001b[39m▁\u001b[39m▁\u001b[39m▁\u001b[39m▁\u001b[39m▁\u001b[39m▁\u001b[39m▁\u001b[39m▁\u001b[39m▁\u001b[39m▁\u001b[39m▁\u001b[39m▁\u001b[39m▁\u001b[39m▁\u001b[39m▁\u001b[39m▁\u001b[39m▁\u001b[39m▁\u001b[39m▁\u001b[39m▁\u001b[39m▁\u001b[39m▁\u001b[39m▁\u001b[39m▁\u001b[39m▁\u001b[39m▁\u001b[39m▁\u001b[39m▁\u001b[39m▁\u001b[39m▁\u001b[39m▁\u001b[39m \u001b[39m▂\n",
       "  33.8 μs\u001b[90m         Histogram: frequency by time\u001b[39m        54.5 μs \u001b[0m\u001b[1m<\u001b[22m\n",
       "\n",
       " Memory estimate\u001b[90m: \u001b[39m\u001b[33m37.28 KiB\u001b[39m, allocs estimate\u001b[90m: \u001b[39m\u001b[33m45\u001b[39m."
      ]
     },
     "metadata": {},
     "output_type": "display_data"
    }
   ],
   "source": [
    "let\n",
    "    robot = TORA.create_robot_franka(\"panda_arm\", vis)\n",
    "    x = rand(robot.n_q + robot.n_v + robot.n_τ + robot.n_q + robot.n_v)\n",
    "    defects = zeros(robot.n_q + robot.n_v)\n",
    "\n",
    "    # Function evaluation\n",
    "    display(@benchmark TORA.forward_dynamics_defects!($defects, $robot, $x, $dt))\n",
    "\n",
    "    # Jacobian evaluation\n",
    "    display(@benchmark jacdata_fwd_dyn($x))\n",
    "end"
   ]
  },
  {
   "cell_type": "code",
   "execution_count": 13,
   "id": "b37c788c-4ce2-4f53-beb4-088787bda99f",
   "metadata": {},
   "outputs": [
    {
     "ename": "LoadError",
     "evalue": "MethodError: no method matching AbstractFloat(::FastDifferentiation.Node{Symbol, 0})\n\n\u001b[0mClosest candidates are:\n\u001b[0m  (::Type{T})(::T) where T<:Number\n\u001b[0m\u001b[90m   @\u001b[39m \u001b[90mCore\u001b[39m \u001b[90m\u001b[4mboot.jl:792\u001b[24m\u001b[39m\n\u001b[0m  (::Type{T})(\u001b[91m::AbstractChar\u001b[39m) where T<:Union{AbstractChar, Number}\n\u001b[0m\u001b[90m   @\u001b[39m \u001b[90mBase\u001b[39m \u001b[90m\u001b[4mchar.jl:50\u001b[24m\u001b[39m\n\u001b[0m  (::Type{T})(\u001b[91m::Base.TwicePrecision\u001b[39m) where T<:Number\n\u001b[0m\u001b[90m   @\u001b[39m \u001b[90mBase\u001b[39m \u001b[90m\u001b[4mtwiceprecision.jl:266\u001b[24m\u001b[39m\n\u001b[0m  ...\n",
     "output_type": "error",
     "traceback": [
      "MethodError: no method matching AbstractFloat(::FastDifferentiation.Node{Symbol, 0})\n\n\u001b[0mClosest candidates are:\n\u001b[0m  (::Type{T})(::T) where T<:Number\n\u001b[0m\u001b[90m   @\u001b[39m \u001b[90mCore\u001b[39m \u001b[90m\u001b[4mboot.jl:792\u001b[24m\u001b[39m\n\u001b[0m  (::Type{T})(\u001b[91m::AbstractChar\u001b[39m) where T<:Union{AbstractChar, Number}\n\u001b[0m\u001b[90m   @\u001b[39m \u001b[90mBase\u001b[39m \u001b[90m\u001b[4mchar.jl:50\u001b[24m\u001b[39m\n\u001b[0m  (::Type{T})(\u001b[91m::Base.TwicePrecision\u001b[39m) where T<:Number\n\u001b[0m\u001b[90m   @\u001b[39m \u001b[90mBase\u001b[39m \u001b[90m\u001b[4mtwiceprecision.jl:266\u001b[24m\u001b[39m\n\u001b[0m  ...\n",
      "",
      "Stacktrace:",
      "  [1] float(x::FastDifferentiation.Node{Symbol, 0})",
      "    @ Base ./float.jl:294",
      "  [2] sincos(x::FastDifferentiation.Node{Symbol, 0})",
      "    @ Base.Math ./special/trig.jl:205",
      "  [3] Tuple",
      "    @ ~/.julia/packages/Rotations/vUzHx/src/angleaxis_types.jl:54 [inlined]",
      "  [4] convert",
      "    @ ~/.julia/packages/StaticArrays/9KYrc/src/convert.jl:181 [inlined]",
      "  [5] Rotations.RotMatrix3{FastDifferentiation.Node}(x::Rotations.AngleAxis{FastDifferentiation.Node})",
      "    @ Rotations ~/.julia/packages/Rotations/vUzHx/src/core_types.jl:74",
      "  [6] convert(#unused#::Type{Rotations.RotMatrix3{FastDifferentiation.Node}}, rot::Rotations.AngleAxis{FastDifferentiation.Node})",
      "    @ Rotations ~/.julia/packages/Rotations/vUzHx/src/core_types.jl:36",
      "  [7] joint_transform",
      "    @ ~/.julia/packages/RigidBodyDynamics/8B04X/src/joint_types/revolute.jl:61 [inlined]",
      "  [8] joint_transform",
      "    @ ~/.julia/packages/RigidBodyDynamics/8B04X/src/joint.jl:191 [inlined]",
      "  [9] macro expansion",
      "    @ ~/.julia/packages/TypeSortedCollections/Z4ytl/src/TypeSortedCollections.jl:173 [inlined]",
      " [10] map!",
      "    @ ~/.julia/packages/TypeSortedCollections/Z4ytl/src/TypeSortedCollections.jl:164 [inlined]",
      " [11] _update_transforms!(state::RigidBodyDynamics.MechanismState{FastDifferentiation.Node, Float64, FastDifferentiation.Node, TypeSortedCollections.TypeSortedCollection{Tuple{Vector{RigidBodyDynamics.Joint{Float64, RigidBodyDynamics.Revolute{Float64}}}}, 1}})",
      "    @ RigidBodyDynamics ~/.julia/packages/RigidBodyDynamics/8B04X/src/mechanism_state.jl:692",
      " [12] update_transforms!",
      "    @ ~/.julia/packages/RigidBodyDynamics/8B04X/src/mechanism_state.jl:686 [inlined]",
      " [13] contact_dynamics!(result::RigidBodyDynamics.DynamicsResult{FastDifferentiation.Node, Float64}, state::RigidBodyDynamics.MechanismState{FastDifferentiation.Node, Float64, FastDifferentiation.Node, TypeSortedCollections.TypeSortedCollection{Tuple{Vector{RigidBodyDynamics.Joint{Float64, RigidBodyDynamics.Revolute{Float64}}}}, 1}})",
      "    @ RigidBodyDynamics ~/.julia/packages/RigidBodyDynamics/8B04X/src/mechanism_algorithms.jl:681",
      " [14] dynamics!(result::RigidBodyDynamics.DynamicsResult{FastDifferentiation.Node, Float64}, state::RigidBodyDynamics.MechanismState{FastDifferentiation.Node, Float64, FastDifferentiation.Node, TypeSortedCollections.TypeSortedCollection{Tuple{Vector{RigidBodyDynamics.Joint{Float64, RigidBodyDynamics.Revolute{Float64}}}}, 1}}, torques::StaticArraysCore.SVector{7, FastDifferentiation.Node}, externalwrenches::RigidBodyDynamics.CustomCollections.NullDict{RigidBodyDynamics.BodyID, RigidBodyDynamics.Spatial.Wrench{FastDifferentiation.Node}}; stabilization_gains::RigidBodyDynamics.CustomCollections.ConstDict{RigidBodyDynamics.JointID, RigidBodyDynamics.PDControl.SE3PDGains{RigidBodyDynamics.PDControl.PDGains{FastDifferentiation.Node{Int64, 0}, FastDifferentiation.Node{Int64, 0}}, RigidBodyDynamics.PDControl.PDGains{FastDifferentiation.Node{Int64, 0}, FastDifferentiation.Node{Int64, 0}}}})",
      "    @ RigidBodyDynamics ~/.julia/packages/RigidBodyDynamics/8B04X/src/mechanism_algorithms.jl:850",
      " [15] dynamics! (repeats 2 times)",
      "    @ ~/.julia/packages/RigidBodyDynamics/8B04X/src/mechanism_algorithms.jl:845 [inlined]",
      " [16] forward_dynamics_defects!(defects::Vector{Float64}, robot::Robot{Float64, RigidBodyDynamics.StateCache{Float64, TypeSortedCollections.TypeSortedCollection{Tuple{Vector{RigidBodyDynamics.Joint{Float64, RigidBodyDynamics.Revolute{Float64}}}}, 1}}, 7, 7, 7}, x::Vector{FastDifferentiation.Node}, h::Float64)",
      "    @ TORA ~/git/TORA.jl/src/constraints/dynamics.jl:34",
      " [17] top-level scope",
      "    @ In[13]:5"
     ]
    }
   ],
   "source": [
    "let\n",
    "    robot = TORA.create_robot_franka(\"panda_arm\", vis)\n",
    "    x = make_variables(:x, robot.n_q + robot.n_v + robot.n_τ + robot.n_q + robot.n_v)\n",
    "    defects = zeros(robot.n_q + robot.n_v)\n",
    "    dyn = TORA.forward_dynamics_defects!(defects, robot, x, dt)\n",
    "    jac_defects = jacobian(dyn, x)\n",
    "    dyn_func = make_function(jac_defects, x)\n",
    "    dyn_func(rand(robot.n_q + robot.n_v + robot.n_τ + robot.n_q + robot.n_v))\n",
    "end"
   ]
  }
 ],
 "metadata": {
  "kernelspec": {
   "display_name": "Julia 1.9.2",
   "language": "julia",
   "name": "julia-1.9"
  },
  "language_info": {
   "file_extension": ".jl",
   "mimetype": "application/julia",
   "name": "julia",
   "version": "1.9.2"
  }
 },
 "nbformat": 4,
 "nbformat_minor": 5
}
