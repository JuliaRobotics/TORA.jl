{
 "cells": [
  {
   "cell_type": "code",
   "execution_count": 8,
   "id": "a7390209-4270-4df1-b1cc-af133edbb166",
   "metadata": {},
   "outputs": [],
   "source": [
    "using Revise\n",
    "using TORA"
   ]
  },
  {
   "cell_type": "code",
   "execution_count": 12,
   "id": "72744d71-70ff-45be-af90-d5c8f29dd692",
   "metadata": {},
   "outputs": [],
   "source": [
    "using BenchmarkTools\n",
    "# using JLD2\n",
    "using MeshCat\n",
    "# using ProgressMeter\n",
    "# using SparseArrays\n",
    "# using StaticArrays\n",
    "# using ThreadsX"
   ]
  },
  {
   "cell_type": "code",
   "execution_count": 13,
   "id": "f4e623f5-f9da-42b1-abf8-b3370fc0aec1",
   "metadata": {},
   "outputs": [],
   "source": [
    "using FastDifferentiation"
   ]
  },
  {
   "cell_type": "code",
   "execution_count": 14,
   "id": "8b3abeba-921d-4d26-8bf8-5c9e41376430",
   "metadata": {},
   "outputs": [
    {
     "name": "stderr",
     "output_type": "stream",
     "text": [
      "\u001b[36m\u001b[1m[ \u001b[22m\u001b[39m\u001b[36m\u001b[1mInfo: \u001b[22m\u001b[39mListening on: 127.0.0.1:8700, thread id: 1\n",
      "\u001b[36m\u001b[1m┌ \u001b[22m\u001b[39m\u001b[36m\u001b[1mInfo: \u001b[22m\u001b[39mMeshCat server started. You can open the visualizer by visiting the following URL in your browser:\n",
      "\u001b[36m\u001b[1m└ \u001b[22m\u001b[39mhttp://127.0.0.1:8700\n"
     ]
    },
    {
     "data": {
      "text/plain": [
       "Robot{Float64, RigidBodyDynamics.StateCache{Float64, TypeSortedCollections.TypeSortedCollection{Tuple{Vector{RigidBodyDynamics.Joint{Float64, RigidBodyDynamics.Revolute{Float64}}}}, 1}}, 7, 7, 7}(\"/Users/henrique/git/TORA.jl/src/../robots/panda_arm.urdf\", Spanning tree:\n",
       "Vertex: world (root)\n",
       "  Vertex: panda_link1, Edge: panda_joint1\n",
       "    Vertex: panda_link2, Edge: panda_joint2\n",
       "      Vertex: panda_link3, Edge: panda_joint3\n",
       "        Vertex: panda_link4, Edge: panda_joint4\n",
       "          Vertex: panda_link5, Edge: panda_joint5\n",
       "            Vertex: panda_link6, Edge: panda_joint6\n",
       "              Vertex: panda_link7, Edge: panda_joint7\n",
       "No non-tree joints., MechanismState{Float64, Float64, Float64, …}(…), StateCache{…}(…), DynamicsResultCache{Float64}(…), RigidBodyDynamics.SegmentedVectorCache{RigidBodyDynamics.JointID, Base.OneTo{RigidBodyDynamics.JointID}}(RigidBodyDynamics.CustomCollections.IndexDict{RigidBodyDynamics.JointID, Base.OneTo{RigidBodyDynamics.JointID}, UnitRange{Int64}}(RigidBodyDynamics.JointID(1) => 1:1, RigidBodyDynamics.JointID(2) => 2:2, RigidBodyDynamics.JointID(3) => 3:3, RigidBodyDynamics.JointID(4) => 4:4, RigidBodyDynamics.JointID(5) => 5:5, RigidBodyDynamics.JointID(6) => 6:6, RigidBodyDynamics.JointID(7) => 7:7), 7, UInt64[], RigidBodyDynamics.CustomCollections.SegmentedVector[]), MeshCatMechanisms.MechanismVisualizer{RigidBodyDynamics.MechanismState{Float64, Float64, Float64, TypeSortedCollections.TypeSortedCollection{Tuple{Vector{RigidBodyDynamics.Joint{Float64, RigidBodyDynamics.Revolute{Float64}}}}, 1}}, Visualizer}(MechanismState{Float64, Float64, Float64, …}(…), MeshCat Visualizer with path /meshcat/robot at http://127.0.0.1:8700, 24), [-2.8973, -1.7628, -2.8973, -3.0718, -2.8973, -0.0175, -2.8973], [2.8973, 1.7628, 2.8973, -0.0698, 2.8973, 3.7525, 2.8973], [-2.175, -2.175, -2.175, -2.175, -2.61, -2.61, -2.61], [2.175, 2.175, 2.175, 2.175, 2.61, 2.61, 2.61], [-87.0, -87.0, -87.0, -87.0, -12.0, -12.0, -12.0], [87.0, 87.0, 87.0, 87.0, 12.0, 12.0, 12.0], 7, 7, 7, CartesianFrame3D: \"after_panda_hand_tcp_joint\" (id = 50))"
      ]
     },
     "execution_count": 14,
     "metadata": {},
     "output_type": "execute_result"
    }
   ],
   "source": [
    "if !@isdefined vis\n",
    "    vis = Visualizer()\n",
    "    robot_global = TORA.create_robot_franka(\"panda_arm\", vis)\n",
    "end"
   ]
  },
  {
   "cell_type": "code",
   "execution_count": 18,
   "id": "e2a80741-e458-4e6d-aa09-11f363e6b2ea",
   "metadata": {},
   "outputs": [],
   "source": [
    "dt = 0.01\n",
    "\n",
    "function prepare_jacdata()\n",
    "    robot = TORA.create_robot_franka(\"panda_arm\", vis)\n",
    "    input = rand(robot.n_q + robot.n_v + robot.n_τ + robot.n_q + robot.n_v)\n",
    "    output = rand(robot.n_q + robot.n_v)\n",
    "    f!(defects, x) = TORA.forward_dynamics_defects!(defects, robot, x, dt)\n",
    "    jacdata_fwd_dyn = TORA.JacobianData(f!, output, input)\n",
    "    return jacdata_fwd_dyn\n",
    "end\n",
    "\n",
    "jacdata_fwd_dyn = prepare_jacdata();"
   ]
  },
  {
   "cell_type": "markdown",
   "id": "d8753e50-6ac6-4c88-927a-87762b5bbb48",
   "metadata": {},
   "source": [
    "## Benchmarking"
   ]
  },
  {
   "cell_type": "code",
   "execution_count": 19,
   "id": "c953981a-4b89-46d4-a777-bb752d3e9567",
   "metadata": {},
   "outputs": [
    {
     "data": {
      "text/plain": [
       "BenchmarkTools.Trial: 10000 samples with 10 evaluations.\n",
       " Range \u001b[90m(\u001b[39m\u001b[36m\u001b[1mmin\u001b[22m\u001b[39m … \u001b[35mmax\u001b[39m\u001b[90m):  \u001b[39m\u001b[36m\u001b[1m1.637 μs\u001b[22m\u001b[39m … \u001b[35m 13.783 μs\u001b[39m  \u001b[90m┊\u001b[39m GC \u001b[90m(\u001b[39mmin … max\u001b[90m): \u001b[39m0.00% … 0.00%\n",
       " Time  \u001b[90m(\u001b[39m\u001b[34m\u001b[1mmedian\u001b[22m\u001b[39m\u001b[90m):     \u001b[39m\u001b[34m\u001b[1m1.679 μs               \u001b[22m\u001b[39m\u001b[90m┊\u001b[39m GC \u001b[90m(\u001b[39mmedian\u001b[90m):    \u001b[39m0.00%\n",
       " Time  \u001b[90m(\u001b[39m\u001b[32m\u001b[1mmean\u001b[22m\u001b[39m ± \u001b[32mσ\u001b[39m\u001b[90m):   \u001b[39m\u001b[32m\u001b[1m1.731 μs\u001b[22m\u001b[39m ± \u001b[32m254.837 ns\u001b[39m  \u001b[90m┊\u001b[39m GC \u001b[90m(\u001b[39mmean ± σ\u001b[90m):  \u001b[39m0.00% ± 0.00%\n",
       "\n",
       "  \u001b[39m \u001b[39m▅\u001b[39m█\u001b[34m█\u001b[39m\u001b[39m▆\u001b[39m▃\u001b[39m▃\u001b[32m▂\u001b[39m\u001b[39m▁\u001b[39m \u001b[39m \u001b[39m▂\u001b[39m▂\u001b[39m \u001b[39m \u001b[39m \u001b[39m \u001b[39m \u001b[39m \u001b[39m \u001b[39m \u001b[39m \u001b[39m \u001b[39m \u001b[39m \u001b[39m \u001b[39m \u001b[39m \u001b[39m \u001b[39m \u001b[39m \u001b[39m \u001b[39m \u001b[39m \u001b[39m \u001b[39m \u001b[39m \u001b[39m \u001b[39m \u001b[39m \u001b[39m \u001b[39m \u001b[39m \u001b[39m \u001b[39m \u001b[39m \u001b[39m \u001b[39m \u001b[39m \u001b[39m \u001b[39m \u001b[39m \u001b[39m \u001b[39m \u001b[39m \u001b[39m \u001b[39m \u001b[39m \u001b[39m \u001b[39m \u001b[39m▂\n",
       "  \u001b[39m█\u001b[39m█\u001b[39m█\u001b[34m█\u001b[39m\u001b[39m█\u001b[39m█\u001b[39m█\u001b[32m█\u001b[39m\u001b[39m█\u001b[39m▇\u001b[39m█\u001b[39m█\u001b[39m█\u001b[39m█\u001b[39m▇\u001b[39m▇\u001b[39m▆\u001b[39m▅\u001b[39m▅\u001b[39m▆\u001b[39m▄\u001b[39m▅\u001b[39m▆\u001b[39m▆\u001b[39m▆\u001b[39m▆\u001b[39m▆\u001b[39m▅\u001b[39m▅\u001b[39m▅\u001b[39m▅\u001b[39m▄\u001b[39m▅\u001b[39m▆\u001b[39m▅\u001b[39m▅\u001b[39m▅\u001b[39m▆\u001b[39m▄\u001b[39m▆\u001b[39m▅\u001b[39m▆\u001b[39m▆\u001b[39m▆\u001b[39m▆\u001b[39m▆\u001b[39m▅\u001b[39m▆\u001b[39m▆\u001b[39m▆\u001b[39m▅\u001b[39m▆\u001b[39m▇\u001b[39m▇\u001b[39m▇\u001b[39m█\u001b[39m▇\u001b[39m▇\u001b[39m▆\u001b[39m \u001b[39m█\n",
       "  1.64 μs\u001b[90m      \u001b[39m\u001b[90mHistogram: \u001b[39m\u001b[90m\u001b[1mlog(\u001b[22m\u001b[39m\u001b[90mfrequency\u001b[39m\u001b[90m\u001b[1m)\u001b[22m\u001b[39m\u001b[90m by time\u001b[39m      2.39 μs \u001b[0m\u001b[1m<\u001b[22m\n",
       "\n",
       " Memory estimate\u001b[90m: \u001b[39m\u001b[33m0 bytes\u001b[39m, allocs estimate\u001b[90m: \u001b[39m\u001b[33m0\u001b[39m."
      ]
     },
     "metadata": {},
     "output_type": "display_data"
    },
    {
     "data": {
      "text/plain": [
       "BenchmarkTools.Trial: 10000 samples with 1 evaluation.\n",
       " Range \u001b[90m(\u001b[39m\u001b[36m\u001b[1mmin\u001b[22m\u001b[39m … \u001b[35mmax\u001b[39m\u001b[90m):  \u001b[39m\u001b[36m\u001b[1m33.875 μs\u001b[22m\u001b[39m … \u001b[35m  6.919 ms\u001b[39m  \u001b[90m┊\u001b[39m GC \u001b[90m(\u001b[39mmin … max\u001b[90m): \u001b[39m0.00% … 99.16%\n",
       " Time  \u001b[90m(\u001b[39m\u001b[34m\u001b[1mmedian\u001b[22m\u001b[39m\u001b[90m):     \u001b[39m\u001b[34m\u001b[1m36.417 μs               \u001b[22m\u001b[39m\u001b[90m┊\u001b[39m GC \u001b[90m(\u001b[39mmedian\u001b[90m):    \u001b[39m0.00%\n",
       " Time  \u001b[90m(\u001b[39m\u001b[32m\u001b[1mmean\u001b[22m\u001b[39m ± \u001b[32mσ\u001b[39m\u001b[90m):   \u001b[39m\u001b[32m\u001b[1m39.400 μs\u001b[22m\u001b[39m ± \u001b[32m109.150 μs\u001b[39m  \u001b[90m┊\u001b[39m GC \u001b[90m(\u001b[39mmean ± σ\u001b[90m):  \u001b[39m4.76% ±  1.71%\n",
       "\n",
       "  \u001b[39m \u001b[39m \u001b[39m \u001b[39m \u001b[39m \u001b[39m▂\u001b[39m▆\u001b[39m█\u001b[34m▃\u001b[39m\u001b[39m \u001b[39m \u001b[39m \u001b[39m \u001b[39m \u001b[39m \u001b[39m \u001b[32m \u001b[39m\u001b[39m \u001b[39m \u001b[39m \u001b[39m \u001b[39m \u001b[39m \u001b[39m \u001b[39m \u001b[39m \u001b[39m \u001b[39m \u001b[39m \u001b[39m \u001b[39m \u001b[39m \u001b[39m \u001b[39m \u001b[39m \u001b[39m \u001b[39m \u001b[39m \u001b[39m \u001b[39m \u001b[39m \u001b[39m \u001b[39m \u001b[39m \u001b[39m \u001b[39m \u001b[39m \u001b[39m \u001b[39m \u001b[39m \u001b[39m \u001b[39m \u001b[39m \u001b[39m \u001b[39m \u001b[39m \u001b[39m \u001b[39m \u001b[39m \u001b[39m \u001b[39m \u001b[39m \n",
       "  \u001b[39m▁\u001b[39m▂\u001b[39m▄\u001b[39m▇\u001b[39m▇\u001b[39m█\u001b[39m█\u001b[39m█\u001b[34m█\u001b[39m\u001b[39m▆\u001b[39m▄\u001b[39m▃\u001b[39m▂\u001b[39m▃\u001b[39m▃\u001b[39m▄\u001b[32m▄\u001b[39m\u001b[39m▄\u001b[39m▃\u001b[39m▂\u001b[39m▂\u001b[39m▁\u001b[39m▁\u001b[39m▁\u001b[39m▁\u001b[39m▁\u001b[39m▁\u001b[39m▁\u001b[39m▁\u001b[39m▁\u001b[39m▁\u001b[39m▁\u001b[39m▁\u001b[39m▁\u001b[39m▁\u001b[39m▁\u001b[39m▁\u001b[39m▁\u001b[39m▁\u001b[39m▁\u001b[39m▁\u001b[39m▁\u001b[39m▁\u001b[39m▁\u001b[39m▁\u001b[39m▁\u001b[39m▁\u001b[39m▁\u001b[39m▁\u001b[39m▁\u001b[39m▁\u001b[39m▁\u001b[39m▁\u001b[39m▁\u001b[39m▁\u001b[39m▁\u001b[39m▁\u001b[39m▁\u001b[39m▁\u001b[39m▁\u001b[39m \u001b[39m▂\n",
       "  33.9 μs\u001b[90m         Histogram: frequency by time\u001b[39m         54.2 μs \u001b[0m\u001b[1m<\u001b[22m\n",
       "\n",
       " Memory estimate\u001b[90m: \u001b[39m\u001b[33m37.28 KiB\u001b[39m, allocs estimate\u001b[90m: \u001b[39m\u001b[33m45\u001b[39m."
      ]
     },
     "metadata": {},
     "output_type": "display_data"
    }
   ],
   "source": [
    "let\n",
    "    robot = TORA.create_robot_franka(\"panda_arm\", vis)\n",
    "    x = rand(robot.n_q + robot.n_v + robot.n_τ + robot.n_q + robot.n_v)\n",
    "    defects = zeros(robot.n_q + robot.n_v)\n",
    "\n",
    "    # Function evaluation\n",
    "    display(@benchmark TORA.forward_dynamics_defects!($defects, $robot, $x, $dt))\n",
    "\n",
    "    # Jacobian evaluation\n",
    "    display(@benchmark jacdata_fwd_dyn($x))\n",
    "end"
   ]
  },
  {
   "cell_type": "code",
   "execution_count": 21,
   "id": "b37c788c-4ce2-4f53-beb4-088787bda99f",
   "metadata": {},
   "outputs": [
    {
     "ename": "LoadError",
     "evalue": "MethodError: no method matching make_function(::Vector{typeof(TORA.forward_dynamics_defects!)}, ::Vector{FastDifferentiation.Node})\n\n\u001b[0mClosest candidates are:\n\u001b[0m  make_function(\u001b[91m::AbstractArray{T}\u001b[39m, ::AbstractVector{<:FastDifferentiation.Node}...; in_place) where T<:FastDifferentiation.Node\n\u001b[0m\u001b[90m   @\u001b[39m \u001b[36mFastDifferentiation\u001b[39m \u001b[90m~/.julia/packages/FastDifferentiation/oGU1A/src/\u001b[39m\u001b[90m\u001b[4mCodeGeneration.jl:141\u001b[24m\u001b[39m\n",
     "output_type": "error",
     "traceback": [
      "MethodError: no method matching make_function(::Vector{typeof(TORA.forward_dynamics_defects!)}, ::Vector{FastDifferentiation.Node})\n\n\u001b[0mClosest candidates are:\n\u001b[0m  make_function(\u001b[91m::AbstractArray{T}\u001b[39m, ::AbstractVector{<:FastDifferentiation.Node}...; in_place) where T<:FastDifferentiation.Node\n\u001b[0m\u001b[90m   @\u001b[39m \u001b[36mFastDifferentiation\u001b[39m \u001b[90m~/.julia/packages/FastDifferentiation/oGU1A/src/\u001b[39m\u001b[90m\u001b[4mCodeGeneration.jl:141\u001b[24m\u001b[39m\n",
      "",
      "Stacktrace:",
      " [1] top-level scope",
      "   @ In[21]:4"
     ]
    }
   ],
   "source": [
    "let\n",
    "    robot = TORA.create_robot_franka(\"panda_arm\", vis)\n",
    "    x = make_variables(:x, robot.n_q + robot.n_v + robot.n_τ + robot.n_q + robot.n_v)\n",
    "    make_function([TORA.forward_dynamics_defects!], x)\n",
    "end"
   ]
  }
 ],
 "metadata": {
  "kernelspec": {
   "display_name": "Julia 1.9.2",
   "language": "julia",
   "name": "julia-1.9"
  },
  "language_info": {
   "file_extension": ".jl",
   "mimetype": "application/julia",
   "name": "julia",
   "version": "1.9.2"
  }
 },
 "nbformat": 4,
 "nbformat_minor": 5
}
