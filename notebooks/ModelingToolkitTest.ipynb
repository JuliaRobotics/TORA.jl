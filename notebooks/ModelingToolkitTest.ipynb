{
 "cells": [
  {
   "cell_type": "code",
   "execution_count": null,
   "id": "monthly-princess",
   "metadata": {},
   "outputs": [],
   "source": [
    "using Pkg\n",
    "Pkg.activate(joinpath(@__DIR__, \"..\"))\n",
    "Pkg.instantiate()"
   ]
  },
  {
   "cell_type": "code",
   "execution_count": null,
   "id": "stuffed-architect",
   "metadata": {},
   "outputs": [],
   "source": [
    "using MeshCat\n",
    "using ModelingToolkit\n",
    "using TORA"
   ]
  },
  {
   "cell_type": "code",
   "execution_count": null,
   "id": "contained-mileage",
   "metadata": {},
   "outputs": [],
   "source": [
    "vis = Visualizer()\n",
    "robot = create_robot_kuka_iiwa_14(vis);"
   ]
  },
  {
   "cell_type": "code",
   "execution_count": null,
   "id": "native-comparison",
   "metadata": {},
   "outputs": [],
   "source": [
    "f!(dx, x) = TORA.inverse_dynamics_defects!(dx, robot, x, 1e-2)"
   ]
  },
  {
   "cell_type": "code",
   "execution_count": null,
   "id": "administrative-deficit",
   "metadata": {},
   "outputs": [],
   "source": [
    "n_out = robot.n_q + robot.n_v  # next state (from integration)\n",
    "n_in = robot.n_q + robot.n_v + robot.n_τ +  # current state + current controls,\n",
    "       robot.n_q + robot.n_v                # and next state (from discretisation)"
   ]
  },
  {
   "cell_type": "code",
   "execution_count": null,
   "id": "polyphonic-spice",
   "metadata": {},
   "outputs": [],
   "source": [
    "let\n",
    "    x = rand(n_in)\n",
    "    dx = zeros(n_out)\n",
    "    f!(dx, x)\n",
    "end"
   ]
  },
  {
   "cell_type": "code",
   "execution_count": null,
   "id": "derived-hardware",
   "metadata": {},
   "outputs": [],
   "source": [
    "let\n",
    "    @variables dx[1:n_out] x[1:n_in]\n",
    "    f!(dx, x)\n",
    "end"
   ]
  }
 ],
 "metadata": {
  "kernelspec": {
   "display_name": "Julia 1.5.2",
   "language": "julia",
   "name": "julia-1.5"
  },
  "language_info": {
   "file_extension": ".jl",
   "mimetype": "application/julia",
   "name": "julia",
   "version": "1.5.2"
  }
 },
 "nbformat": 4,
 "nbformat_minor": 5
}
