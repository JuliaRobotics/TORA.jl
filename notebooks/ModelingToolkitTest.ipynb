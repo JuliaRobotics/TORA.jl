{
 "cells": [
  {
   "cell_type": "code",
   "execution_count": null,
   "metadata": {},
   "outputs": [],
   "source": [
    "using Pkg\n",
    "Pkg.activate(joinpath(@__DIR__, \"..\"))\n",
    "Pkg.instantiate()"
   ]
  },
  {
   "cell_type": "code",
   "execution_count": null,
   "metadata": {},
   "outputs": [],
   "source": [
    "using MeshCat\n",
    "using ModelingToolkit\n",
    "using TORA"
   ]
  },
  {
   "cell_type": "code",
   "execution_count": null,
   "metadata": {},
   "outputs": [],
   "source": [
    "vis = Visualizer()\n",
    "robot = create_robot_kuka_iiwa_14(vis);"
   ]
  },
  {
   "cell_type": "code",
   "execution_count": null,
   "metadata": {},
   "outputs": [],
   "source": [
    "f!(dx, x) = TORA.inverse_dynamics_defects!(dx, robot, x, 1e-2)"
   ]
  },
  {
   "cell_type": "code",
   "execution_count": null,
   "metadata": {},
   "outputs": [],
   "source": [
    "n_out = robot.n_q + robot.n_v  # next state (from integration)\n",
    "n_in = robot.n_q + robot.n_v + robot.n_τ +  # current state + current controls,\n",
    "       robot.n_q + robot.n_v                # and next state (from discretisation)"
   ]
  },
  {
   "cell_type": "code",
   "execution_count": null,
   "metadata": {},
   "outputs": [],
   "source": [
    "let\n",
    "    x = rand(n_in)\n",
    "    dx = zeros(n_out)\n",
    "    f!(dx, x)\n",
    "end"
   ]
  },
  {
   "cell_type": "code",
   "execution_count": null,
   "metadata": {},
   "outputs": [],
   "source": [
    "let\n",
    "    @variables dx[1:n_out] x[1:n_in]\n",
    "    f!(dx, x)\n",
    "end"
   ]
  },
  {
   "cell_type": "code",
   "execution_count": null,
   "metadata": {},
   "outputs": [],
   "source": [
    "# @YingboMa's snippet\n",
    "# import Pkg; Pkg.add(\"SymbolicUtils\")\n",
    "using ModelingToolkit.SymbolicUtils\n",
    "using SymbolicUtils: Symbolic\n",
    "Base.sincos(x::Union{Symbolic,Num}) = sin(x), cos(x)\n",
    "\n",
    "@time let  # I don't know if this works or not, but I know it was still running after 12 hours\n",
    "    @variables dx[1:n_out] x[1:n_in]\n",
    "    f!(dx, x)\n",
    "end"
   ]
  }
 ],
 "metadata": {
  "kernelspec": {
   "display_name": "Julia 1.6.0-rc1",
   "language": "julia",
   "name": "julia-1.6"
  },
  "language_info": {
   "file_extension": ".jl",
   "mimetype": "application/julia",
   "name": "julia",
   "version": "1.6.0"
  }
 },
 "nbformat": 4,
 "nbformat_minor": 4
}
