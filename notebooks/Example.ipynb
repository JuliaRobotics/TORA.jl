{
 "cells": [
  {
   "cell_type": "code",
   "execution_count": null,
   "metadata": {},
   "outputs": [],
   "source": [
    "using Pkg\n",
    "Pkg.activate(joinpath(@__DIR__, \"..\"))\n",
    "Pkg.instantiate()"
   ]
  },
  {
   "cell_type": "code",
   "execution_count": null,
   "metadata": {},
   "outputs": [],
   "source": [
    "using Revise\n",
    "using TORA"
   ]
  },
  {
   "cell_type": "code",
   "execution_count": null,
   "metadata": {},
   "outputs": [],
   "source": [
    "using LinearAlgebra\n",
    "# Try to load something faster than OpenBLAS\n",
    "try using AppleAccelerate catch e; end\n",
    "try using MKL catch e; end\n",
    "BLAS.get_config()"
   ]
  },
  {
   "cell_type": "code",
   "execution_count": null,
   "metadata": {},
   "outputs": [],
   "source": [
    "# using KNITRO\n",
    "using MeshCat\n",
    "using RigidBodyDynamics"
   ]
  },
  {
   "cell_type": "code",
   "execution_count": null,
   "metadata": {},
   "outputs": [],
   "source": [
    "# Load the pre-compiled binaries of Coin HSL routines\n",
    "HSL_jll_path = expanduser(\"~/HSL_jll.jl-2023.5.26\")\n",
    "Pkg.develop(path=HSL_jll_path)\n",
    "import HSL_jll"
   ]
  },
  {
   "cell_type": "code",
   "execution_count": null,
   "metadata": {},
   "outputs": [],
   "source": [
    "TORA.greet()"
   ]
  },
  {
   "cell_type": "code",
   "execution_count": null,
   "metadata": {},
   "outputs": [],
   "source": [
    "vis = Visualizer()\n",
    "\n",
    "setprop!(vis[\"/Cameras/default/rotated/<object>\"], \"fov\", 40)\n",
    "\n",
    "# IJuliaCell(vis)  # Show the viewer here (in the notebook)\n",
    "open(vis)  # Show the viewer in a separate tab"
   ]
  },
  {
   "cell_type": "code",
   "execution_count": null,
   "metadata": {},
   "outputs": [],
   "source": [
    "robot = TORA.create_robot_franka(\"panda_arm\", vis)\n",
    "# robot = TORA.create_robot_kinova_gen2(\"j2s6s200\", vis)\n",
    "# robot = TORA.create_robot_kinova_gen3(\"gen3_robotiq_2f_140\", vis)\n",
    "# robot = TORA.create_robot_kuka(\"iiwa14\", vis)\n",
    "# robot = TORA.create_robot_ur(\"ur10e\", vis)\n",
    "\n",
    "problem = TORA.Problem(robot, 2001, 1/1000)\n",
    "\n",
    "# Constrain initial and final joint velocities to zero\n",
    "TORA.fix_joint_velocities!(problem, robot, 1, zeros(robot.n_v))\n",
    "TORA.fix_joint_velocities!(problem, robot, problem.num_knots, zeros(robot.n_v))\n",
    "\n",
    "# # Constrain the position of the end-effector\n",
    "# TORA.constrain_ee_position!(problem,   1, [ 1.0,  0.0,  0.5])\n",
    "# TORA.constrain_ee_position!(problem, 101, [ 0.0,  1.0,  0.5])\n",
    "# TORA.constrain_ee_position!(problem, 201, [-1.0,  0.0,  0.5])\n",
    "# TORA.constrain_ee_position!(problem, 301, [ 0.0, -1.0,  0.5])\n",
    "\n",
    "let\n",
    "    CubicTimeScaling(Tf::Number, t::Number) = 3(t / Tf)^2 - 2(t / Tf)^3\n",
    "    QuinticTimeScaling(Tf::Number, t::Number) = 10(t / Tf)^3 - 15(t / Tf)^4 + 6(t / Tf)^5\n",
    "\n",
    "    for k = 1:2:problem.num_knots\n",
    "        θ = CubicTimeScaling(problem.num_knots - 1, k - 1) * 2π\n",
    "        # pos = [0.5, 0.2 * cos(θ), 0.8 + 0.2 * sin(θ)]  # UR10e\n",
    "        pos = [0.4, 0.2 * cos(θ), 0.7 + 0.2 * sin(θ)]  # Franka Emika\n",
    "        # pos = [0.5, 0.3 * sin(θ) + 0.1 * sin(8 * θ), 0.8 + 0.3 * cos(θ) + 0.1 * cos(8 * θ)]\n",
    "        TORA.constrain_ee_position!(problem, k, pos)\n",
    "    end\n",
    "end\n",
    "\n",
    "TORA.show_problem_info(problem)"
   ]
  },
  {
   "cell_type": "code",
   "execution_count": null,
   "metadata": {},
   "outputs": [],
   "source": [
    "initial_q = zeros(robot.n_q)\n",
    "# initial_q = [0, 0, 0, -π/2, 0, 0, 0]\n",
    "initial_q = [0, -π/4, 0, -3π/4, 0, π/2, 0]  # Franka Emika\n",
    "# initial_q = [0, -120, 120, -180, -90, 0] .|> deg2rad  # UR10e\n",
    "# initial_q = x[1:7]\n",
    "\n",
    "zero!(robot.state)\n",
    "set_configuration!(robot.state, initial_q)\n",
    "set_configuration!(robot.mvis, configuration(robot.state))\n",
    "\n",
    "initial_qs = repeat(initial_q, 1, problem.num_knots)\n",
    "initial_vs = zeros(robot.n_v, problem.num_knots)\n",
    "initial_τs = zeros(robot.n_τ, problem.num_knots)\n",
    "\n",
    "initial_guess = [initial_qs; initial_vs; initial_τs]\n",
    "\n",
    "# Flatten matrix and truncate torques of last knot\n",
    "initial_guess = vec(initial_guess)[1:end - robot.n_τ];"
   ]
  },
  {
   "cell_type": "code",
   "execution_count": null,
   "metadata": {},
   "outputs": [],
   "source": [
    "use_inv_dyn = true\n",
    "minimise_torques = false\n",
    "\n",
    "user_options = Dict(\n",
    "    # === Termination === #  https://coin-or.github.io/Ipopt/OPTIONS.html#OPT_Termination\n",
    "    # \"tol\" => 10e-2,  # default: 10e-8\n",
    "    # \"max_cpu_time\" => 4.0,  # default: 10e20\n",
    "    # \"constr_viol_tol\" => 0.1,  # default: 0.0001\n",
    "    # \"acceptable_tol\" => 0.1,  # default: 10e-6\n",
    "    # \"acceptable_constr_viol_tol\" => 0.1,  # default: 0.01\n",
    "\n",
    "    # === Output === #  https://coin-or.github.io/Ipopt/OPTIONS.html#OPT_Output\n",
    "    # \"print_level\" => 0,  # [0, 12], default: 5\n",
    "    \n",
    "    # === NLP Scaling === #  https://coin-or.github.io/Ipopt/OPTIONS.html#OPT_NLP_Scaling\n",
    "    # \"nlp_scaling_method\" => \"none\",  # none, user-scaling, gradient-based (default), equilibration-based\n",
    "\n",
    "    # === Warm Start === #  https://coin-or.github.io/Ipopt/OPTIONS.html#OPT_Warm_Start\n",
    "    # \"warm_start_init_point\" => \"yes\",\n",
    "    # \"warm_start_same_structure\" => \"yes\",\n",
    "    # \"warm_start_entire_iterate\" => \"yes\",\n",
    "\n",
    "    # === Barrier Parameter Update === #  https://coin-or.github.io/Ipopt/OPTIONS.html#OPT_Barrier_Parameter_Update\n",
    "    \"mu_strategy\" => \"adaptive\",  # monotone (default), adaptive\n",
    "    # \"mu_oracle\" => \"loqo\",  # probing, loqo, quality-function (default)\n",
    "\n",
    "    # === Linear Solver === #  https://coin-or.github.io/Ipopt/OPTIONS.html#OPT_Linear_Solver\n",
    "    \"linear_solver\" => \"ma57\",  # ma27 (default), ma57, ma77, ma86, ma97, (...)\n",
    "    # \"ma57_pre_alloc\" => 1.10,  # [1, Inf), 1.05 (default)\n",
    "\n",
    "    # === Step Calculation === #  https://coin-or.github.io/Ipopt/OPTIONS.html#OPT_Step_Calculation\n",
    "    # \"mehrotra_algorithm\" => \"yes\",  # yes, no (default)\n",
    "    \"fast_step_computation\" => \"yes\",  # yes, no (default)\n",
    "\n",
    "    # === Hessian Approximation === #  https://coin-or.github.io/Ipopt/OPTIONS.html#OPT_Hessian_Approximation\n",
    "    \"hessian_approximation\" => \"limited-memory\",  # exact (default), limited-memory\n",
    "    # \"hessian_approximation_space\" => \"all-variables\", # nonlinear-variables (default), all-variables\n",
    "\n",
    "    # === Derivative Checker === #  https://coin-or.github.io/Ipopt/OPTIONS.html#OPT_Derivative_Checker\n",
    "    # \"derivative_test\" => \"first-order\",  # none, first-order, second-order, only-second-order\n",
    ")\n",
    "\n",
    "# Choose which solver you want to use:\n",
    "solve = TORA.solve_with_ipopt  # Uses Ipopt (https://github.com/coin-or/Ipopt)\n",
    "# solve = TORA.solve_with_knitro  # Uses KNITRO (https://www.artelys.com/solvers/knitro/)\n",
    "\n",
    "# Calling this will start the optimization.\n",
    "cpu_time, x, solver_log = solve(problem, robot,\n",
    "                                initial_guess=initial_guess,\n",
    "                                use_inv_dyn=use_inv_dyn,\n",
    "                                minimise_torques=minimise_torques,\n",
    "                                user_options=user_options)"
   ]
  },
  {
   "cell_type": "code",
   "execution_count": null,
   "metadata": {},
   "outputs": [],
   "source": [
    "TORA.play_trajectory(vis, problem, robot, x)"
   ]
  },
  {
   "cell_type": "code",
   "execution_count": null,
   "metadata": {},
   "outputs": [],
   "source": [
    "TORA.plot_results(problem, robot, x)"
   ]
  },
  {
   "cell_type": "code",
   "execution_count": null,
   "metadata": {
    "tags": []
   },
   "outputs": [],
   "source": [
    "TORA.plot_log(solver_log)"
   ]
  }
 ],
 "metadata": {
  "kernelspec": {
   "display_name": "Julia 1.11.3",
   "language": "julia",
   "name": "julia-1.11"
  },
  "language_info": {
   "file_extension": ".jl",
   "mimetype": "application/julia",
   "name": "julia",
   "version": "1.11.3"
  }
 },
 "nbformat": 4,
 "nbformat_minor": 4
}
