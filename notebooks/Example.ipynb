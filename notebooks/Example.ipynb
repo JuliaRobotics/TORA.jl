{
 "cells": [
  {
   "cell_type": "code",
   "execution_count": null,
   "metadata": {},
   "outputs": [],
   "source": [
    "using Pkg\n",
    "Pkg.activate(joinpath(@__DIR__, \"..\"))\n",
    "Pkg.instantiate()"
   ]
  },
  {
   "cell_type": "code",
   "execution_count": null,
   "metadata": {},
   "outputs": [],
   "source": [
    "using Revise\n",
    "using TORA"
   ]
  },
  {
   "cell_type": "code",
   "execution_count": null,
   "metadata": {},
   "outputs": [],
   "source": [
    "# Workaround for: https://github.com/JuliaRobotics/RigidBodyDynamics.jl/issues/500\n",
    "using LinearAlgebra; BLAS.set_num_threads(1)"
   ]
  },
  {
   "cell_type": "code",
   "execution_count": null,
   "metadata": {},
   "outputs": [],
   "source": [
    "using KNITRO\n",
    "using MeshCat\n",
    "using RigidBodyDynamics"
   ]
  },
  {
   "cell_type": "code",
   "execution_count": null,
   "metadata": {},
   "outputs": [],
   "source": [
    "TORA.greet()"
   ]
  },
  {
   "cell_type": "code",
   "execution_count": null,
   "metadata": {},
   "outputs": [],
   "source": [
    "vis = Visualizer()\n",
    "\n",
    "setprop!(vis[\"/Cameras/default/rotated/<object>\"], \"fov\", 40)\n",
    "\n",
    "# IJuliaCell(vis)  # Show the viewer here (in the notebook)\n",
    "open(vis)  # Show the viewer in a separate tab"
   ]
  },
  {
   "cell_type": "code",
   "execution_count": null,
   "metadata": {},
   "outputs": [],
   "source": [
    "robot = TORA.create_robot_kuka_iiwa_14(vis)\n",
    "problem = TORA.Problem(robot, 301, 1/150)\n",
    "\n",
    "# Constrain initial and final joint velocities to zero\n",
    "TORA.fix_joint_velocities!(problem, robot, 1, zeros(robot.n_v))\n",
    "TORA.fix_joint_velocities!(problem, robot, problem.num_knots, zeros(robot.n_v))\n",
    "\n",
    "# # Constrain the position of the end-effector\n",
    "# TORA.constrain_ee_position!(problem,   1, [ 1.0,  0.0,  0.5])\n",
    "# TORA.constrain_ee_position!(problem, 101, [ 0.0,  1.0,  0.5])\n",
    "# TORA.constrain_ee_position!(problem, 201, [-1.0,  0.0,  0.5])\n",
    "# TORA.constrain_ee_position!(problem, 301, [ 0.0, -1.0,  0.5])\n",
    "\n",
    "let\n",
    "    CubicTimeScaling(Tf::Number, t::Number) = 3(t / Tf)^2 - 2(t / Tf)^3\n",
    "    QuinticTimeScaling(Tf::Number, t::Number) = 10(t / Tf)^3 - 15(t / Tf)^4 + 6(t / Tf)^5\n",
    "\n",
    "    for k = 1:2:problem.num_knots\n",
    "        θ = CubicTimeScaling(problem.num_knots - 1, k - 1) * 2π\n",
    "        pos = [0.5, 0.2 * cos(θ), 0.8 + 0.2 * sin(θ)]\n",
    "        # pos = [0.5, 0.3 * sin(θ) + 0.1 * sin(8 * θ), 0.8 + 0.3 * cos(θ) + 0.1 * cos(8 * θ)]\n",
    "        TORA.constrain_ee_position!(problem, k, pos)\n",
    "    end\n",
    "end\n",
    "\n",
    "TORA.show_problem_info(problem)"
   ]
  },
  {
   "cell_type": "code",
   "execution_count": null,
   "metadata": {},
   "outputs": [],
   "source": [
    "initial_q = [0, 0, 0, -π/2, 0, 0, 0]\n",
    "\n",
    "zero!(robot.state)\n",
    "set_configuration!(robot.state, initial_q)\n",
    "set_configuration!(robot.mvis, configuration(robot.state))\n",
    "\n",
    "initial_qs = repeat(initial_q, 1, problem.num_knots)\n",
    "initial_vs = zeros(robot.n_v, problem.num_knots)\n",
    "initial_τs = zeros(robot.n_τ, problem.num_knots)\n",
    "\n",
    "initial_guess = [initial_qs; initial_vs; initial_τs]\n",
    "\n",
    "# Flatten matrix and truncate torques of last knot\n",
    "initial_guess = vec(initial_guess)[1:end - robot.n_τ];"
   ]
  },
  {
   "cell_type": "code",
   "execution_count": null,
   "metadata": {},
   "outputs": [],
   "source": [
    "use_inv_dyn = true\n",
    "minimise_τ = false\n",
    "\n",
    "# Choose which solver you want to use:\n",
    "solve = TORA.solve_with_ipopt  # Uses Ipopt (https://github.com/coin-or/Ipopt)\n",
    "# solve = TORA.solve_with_knitro  # Uses KNITRO (https://www.artelys.com/solvers/knitro/)\n",
    "\n",
    "# Calling this will start the optimization.\n",
    "cpu_time, x, solver_log = solve(problem, robot,\n",
    "                                initial_guess=initial_guess,\n",
    "                                use_inv_dyn=use_inv_dyn,\n",
    "                                minimise_τ=minimise_τ)"
   ]
  },
  {
   "cell_type": "code",
   "execution_count": null,
   "metadata": {},
   "outputs": [],
   "source": [
    "TORA.play_trajectory(vis, problem, robot, x)"
   ]
  },
  {
   "cell_type": "code",
   "execution_count": null,
   "metadata": {},
   "outputs": [],
   "source": [
    "TORA.plot_results(problem, robot, x)"
   ]
  },
  {
   "cell_type": "code",
   "execution_count": null,
   "metadata": {},
   "outputs": [],
   "source": [
    "TORA.plot_log(solver_log)"
   ]
  },
  {
   "cell_type": "markdown",
   "metadata": {},
   "source": [
    "---"
   ]
  },
  {
   "cell_type": "code",
   "execution_count": null,
   "metadata": {},
   "outputs": [],
   "source": [
    "using BenchmarkTools\n",
    "# using ForwardDiff\n",
    "using StaticArrays\n",
    "# using StrideArrays"
   ]
  },
  {
   "cell_type": "code",
   "execution_count": null,
   "metadata": {},
   "outputs": [],
   "source": [
    "let\n",
    "    function f(x, state, result)\n",
    "        set_configuration!(state, x)\n",
    "        set_velocity!(state, x)\n",
    "        dynamics!(result, state, x)\n",
    "    end\n",
    "\n",
    "    x = @SVector rand(robot.n_τ)\n",
    "\n",
    "    @btime $f($x, $robot.statecache[Float64], $robot.dynamicsresultcache[Float64])\n",
    "\n",
    "    dx = @MVector zeros(robot.n_q + robot.n_v)\n",
    "    x = @SVector rand(2*robot.n_q + 2*robot.n_v + robot.n_τ)\n",
    "    h = 0.001\n",
    "\n",
    "    # @btime TORA.forward_dynamics_defects_new!($dx, $robot, $x, $h)\n",
    "    @btime TORA.forward_dynamics_defects!($dx, $robot, $x, $h)\n",
    "\n",
    "    # @code_warntype TORA.forward_dynamics_defects_new!(dx, robot, x, h)\n",
    "\n",
    "    nothing\n",
    "end"
   ]
  },
  {
   "cell_type": "code",
   "execution_count": null,
   "metadata": {},
   "outputs": [],
   "source": [
    "let\n",
    "    dx = @MVector zeros(robot.n_q + robot.n_v)\n",
    "    x = @SVector zeros(2*robot.n_q + 2*robot.n_v + robot.n_τ)\n",
    "    h = 0.001\n",
    "\n",
    "    # @code_warntype TORA.inverse_dynamics_defects_new!(dx, robot, x, h)\n",
    "\n",
    "    @btime TORA.inverse_dynamics_defects!($dx, $robot, $x, $h)\n",
    "    @btime TORA.inverse_dynamics_defects_new!($dx, $robot, $x, $h)\n",
    "\n",
    "    nothing\n",
    "end"
   ]
  }
 ],
 "metadata": {
  "kernelspec": {
   "display_name": "Julia 1.6.0-rc1",
   "language": "julia",
   "name": "julia-1.6"
  },
  "language_info": {
   "file_extension": ".jl",
   "mimetype": "application/julia",
   "name": "julia",
   "version": "1.6.0"
  }
 },
 "nbformat": 4,
 "nbformat_minor": 4
}
