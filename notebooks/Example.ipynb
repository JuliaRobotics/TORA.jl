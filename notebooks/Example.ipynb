{
 "cells": [
  {
   "cell_type": "code",
   "execution_count": null,
   "metadata": {},
   "outputs": [],
   "source": [
    "using Pkg\n",
    "Pkg.activate(joinpath(@__DIR__, \"..\"))\n",
    "Pkg.instantiate()"
   ]
  },
  {
   "cell_type": "code",
   "execution_count": null,
   "metadata": {},
   "outputs": [],
   "source": [
    "using Revise\n",
    "using TORA"
   ]
  },
  {
   "cell_type": "code",
   "execution_count": null,
   "metadata": {},
   "outputs": [],
   "source": [
    "using MeshCat\n",
    "using MeshCatMechanisms\n",
    "using RigidBodyDynamics"
   ]
  },
  {
   "cell_type": "code",
   "execution_count": null,
   "metadata": {},
   "outputs": [],
   "source": [
    "TORA.greet()"
   ]
  },
  {
   "cell_type": "code",
   "execution_count": null,
   "metadata": {},
   "outputs": [],
   "source": [
    "vis = Visualizer()\n",
    "setprop!(vis[\"/Cameras/default/rotated/<object>\"], \"fov\", 40)\n",
    "\n",
    "path_urdf = joinpath(@__DIR__, \"..\", \"robots\", \"iiwa14.urdf\")\n",
    "path_package = joinpath(@__DIR__, \"..\", \"iiwa_stack\")\n",
    "\n",
    "mechanism = parse_urdf(path_urdf, remove_fixed_tree_joints=false)\n",
    "frame_ee = default_frame(findbody(mechanism, \"iiwa_link_pen_tip\"))\n",
    "\n",
    "urdf_visuals = URDFVisuals(path_urdf, package_path = [path_package])\n",
    "mvis = MechanismVisualizer(mechanism, urdf_visuals, vis[\"robot\"])\n",
    "\n",
    "# Visualise a triad at the end-effector\n",
    "setelement!(mvis, frame_ee)\n",
    "\n",
    "IJuliaCell(vis)  # Show the viewer here (in the notebook)\n",
    "# open(vis)  # Show the viewer in a separate tab"
   ]
  },
  {
   "cell_type": "code",
   "execution_count": null,
   "metadata": {},
   "outputs": [],
   "source": [
    "state = MechanismState(mechanism)\n",
    "rand_configuration!(state)\n",
    "set_configuration!(mvis, configuration(state))"
   ]
  }
 ],
 "metadata": {
  "kernelspec": {
   "display_name": "Julia 1.5.2",
   "language": "julia",
   "name": "julia-1.5"
  },
  "language_info": {
   "file_extension": ".jl",
   "mimetype": "application/julia",
   "name": "julia",
   "version": "1.5.2"
  }
 },
 "nbformat": 4,
 "nbformat_minor": 4
}
