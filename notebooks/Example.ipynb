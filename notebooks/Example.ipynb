{
 "cells": [
  {
   "cell_type": "code",
   "execution_count": null,
   "metadata": {},
   "outputs": [],
   "source": [
    "using Pkg\n",
    "Pkg.activate(joinpath(@__DIR__, \"..\"))\n",
    "Pkg.instantiate()"
   ]
  },
  {
   "cell_type": "code",
   "execution_count": null,
   "metadata": {},
   "outputs": [],
   "source": [
    "using Revise\n",
    "using TORA"
   ]
  },
  {
   "cell_type": "code",
   "execution_count": null,
   "metadata": {},
   "outputs": [],
   "source": [
    "using MeshCat\n",
    "using MeshCatMechanisms\n",
    "using RigidBodyDynamics"
   ]
  },
  {
   "cell_type": "code",
   "execution_count": null,
   "metadata": {},
   "outputs": [],
   "source": [
    "TORA.greet()"
   ]
  },
  {
   "cell_type": "code",
   "execution_count": null,
   "metadata": {},
   "outputs": [],
   "source": [
    "problem = TORA.Problem(101, 0.010)\n",
    "robot = TORA.create_robot_kuka_iiwa_14()\n",
    "\n",
    "# Constrain initial and final joint velocities to zero\n",
    "TORA.fix_joint_velocities!(problem, robot,   1, zeros(robot.n_v))\n",
    "TORA.fix_joint_velocities!(problem, robot, 101, zeros(robot.n_v))\n",
    "\n",
    "TORA.show_problem_info(problem)"
   ]
  },
  {
   "cell_type": "code",
   "execution_count": null,
   "metadata": {},
   "outputs": [],
   "source": [
    "# TORA.solve_with_knitro(problem, robot)\n",
    "TORA.solve_with_ipopt(problem, robot)"
   ]
  },
  {
   "cell_type": "code",
   "execution_count": null,
   "metadata": {},
   "outputs": [],
   "source": [
    "vis = Visualizer()\n",
    "setprop!(vis[\"/Cameras/default/rotated/<object>\"], \"fov\", 40)\n",
    "\n",
    "mvis = MechanismVisualizer(robot.mechanism, robot.urdfvisuals, vis[\"robot\"])\n",
    "\n",
    "# Visualise a triad at the end-effector\n",
    "setelement!(mvis, robot.frame_ee)\n",
    "\n",
    "IJuliaCell(vis)  # Show the viewer here (in the notebook)\n",
    "# open(vis)  # Show the viewer in a separate tab"
   ]
  },
  {
   "cell_type": "code",
   "execution_count": null,
   "metadata": {},
   "outputs": [],
   "source": [
    "rand_configuration!(robot.state)\n",
    "set_configuration!(mvis, configuration(robot.state))"
   ]
  }
 ],
 "metadata": {
  "kernelspec": {
   "display_name": "Julia 1.5.2",
   "language": "julia",
   "name": "julia-1.5"
  },
  "language_info": {
   "file_extension": ".jl",
   "mimetype": "application/julia",
   "name": "julia",
   "version": "1.5.2"
  }
 },
 "nbformat": 4,
 "nbformat_minor": 4
}
