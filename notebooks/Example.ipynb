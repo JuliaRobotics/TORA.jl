{
 "cells": [
  {
   "cell_type": "code",
   "execution_count": null,
   "metadata": {},
   "outputs": [],
   "source": [
    "using Pkg\n",
    "Pkg.activate(joinpath(@__DIR__, \"..\"))\n",
    "Pkg.instantiate()"
   ]
  },
  {
   "cell_type": "code",
   "execution_count": null,
   "metadata": {},
   "outputs": [],
   "source": [
    "using Revise\n",
    "using TORA"
   ]
  },
  {
   "cell_type": "code",
   "execution_count": null,
   "metadata": {},
   "outputs": [],
   "source": [
    "using MeshCat\n",
    "using MeshCatMechanisms\n",
    "using RigidBodyDynamics"
   ]
  },
  {
   "cell_type": "code",
   "execution_count": null,
   "metadata": {},
   "outputs": [],
   "source": [
    "TORA.greet()"
   ]
  },
  {
   "cell_type": "code",
   "execution_count": null,
   "metadata": {},
   "outputs": [],
   "source": [
    "vis = Visualizer()\n",
    "\n",
    "setprop!(vis[\"/Cameras/default/rotated/<object>\"], \"fov\", 40)\n",
    "\n",
    "# IJuliaCell(vis)  # Show the viewer here (in the notebook)\n",
    "open(vis)  # Show the viewer in a separate tab"
   ]
  },
  {
   "cell_type": "code",
   "execution_count": null,
   "metadata": {},
   "outputs": [],
   "source": [
    "robot = TORA.create_robot_kuka_iiwa_14(vis)\n",
    "problem = TORA.Problem(robot, 51, 0.020)\n",
    "\n",
    "# Constrain initial and final joint velocities to zero\n",
    "TORA.fix_joint_velocities!(problem, robot, 1, zeros(robot.n_v))\n",
    "TORA.fix_joint_velocities!(problem, robot, problem.num_knots, zeros(robot.n_v))\n",
    "\n",
    "# Constrain the position of the end-effector\n",
    "let\n",
    "    CubicTimeScaling(Tf::Number, t::Number) = 3(t / Tf)^2 - 2(t / Tf)^3\n",
    "    QuinticTimeScaling(Tf::Number, t::Number) = 10(t / Tf)^3 - 15(t / Tf)^4 + 6(t / Tf)^5\n",
    "\n",
    "    for k = 1:1:problem.num_knots\n",
    "        θ = CubicTimeScaling(problem.num_knots, k) * 2π\n",
    "        pos = [0.5, 0.2 * sin(θ), 1.0 + 0.2 * cos(θ)]\n",
    "        # pos = [0.5, 0.3 * sin(θ) + 0.1 * sin(8 * θ), 0.8 + 0.3 * cos(θ) + 0.1 * cos(8 * θ)]\n",
    "        TORA.constrain_ee_position!(problem, robot, k, pos)\n",
    "    end\n",
    "end\n",
    "\n",
    "# TORA.constrain_ee_position!(problem, robot,   1, [ 1.0,  0.0,  0.5])\n",
    "# foreach(k -> TORA.constrain_ee_position!(problem, robot, k, [ 0.0,  1.0,  0.5]), 30:50)\n",
    "# foreach(k -> TORA.constrain_ee_position!(problem, robot, k, [-1.0,  0.0,  0.5]), 60:80)\n",
    "# TORA.constrain_ee_position!(problem, robot, 101, [ 0.0, -1.0,  0.5])\n",
    "\n",
    "TORA.show_problem_info(problem)"
   ]
  },
  {
   "cell_type": "raw",
   "metadata": {},
   "source": [
    "let\n",
    "    knots_con_ee = sort(collect(keys(problem.ee_pos)))\n",
    "    con_ee = hcat([[problem.ee_pos[k].data...] for k in knots_con_ee]...)\n",
    "    TORA.show_ee_path(vis, con_ee)\n",
    "end"
   ]
  },
  {
   "cell_type": "code",
   "execution_count": null,
   "metadata": {},
   "outputs": [],
   "source": [
    "cpu_time, x = TORA.solve_with_knitro(problem, robot)\n",
    "# cpu_time, x = TORA.solve_with_ipopt(problem, robot)"
   ]
  },
  {
   "cell_type": "code",
   "execution_count": null,
   "metadata": {},
   "outputs": [],
   "source": [
    "let\n",
    "    ee_positions = TORA.get_ee_path(problem, robot, x)\n",
    "    TORA.show_ee_path(vis, ee_positions)\n",
    "\n",
    "    nₓ = robot.n_q + robot.n_v + robot.n_τ  # dimension of each mesh point\n",
    "    ind_q = hcat([range(1 + (i * nₓ), length=robot.n_q) for i = (1:problem.num_knots) .- 1]...)\n",
    "    q_mat = x[ind_q]\n",
    "\n",
    "    ts = range(0, length=problem.num_knots, step=problem.dt)\n",
    "    qs = [q_mat[:, i] for i = 1:size(q_mat, 2)]\n",
    "\n",
    "    animation = Animation(robot.mvis, ts, qs)\n",
    "    setanimation!(robot.mvis, animation)\n",
    "end"
   ]
  },
  {
   "cell_type": "raw",
   "metadata": {},
   "source": [
    "using Plots\n",
    "plotlyjs()\n",
    "scatter(inds[1], inds[2], yflip=true) |> display\n",
    "gr();"
   ]
  },
  {
   "cell_type": "code",
   "execution_count": null,
   "metadata": {},
   "outputs": [],
   "source": [
    "rand_configuration!(robot.state)\n",
    "set_configuration!(robot.mvis, configuration(robot.state))"
   ]
  }
 ],
 "metadata": {
  "kernelspec": {
   "display_name": "Julia 1.5.2",
   "language": "julia",
   "name": "julia-1.5"
  },
  "language_info": {
   "file_extension": ".jl",
   "mimetype": "application/julia",
   "name": "julia",
   "version": "1.5.2"
  }
 },
 "nbformat": 4,
 "nbformat_minor": 4
}
